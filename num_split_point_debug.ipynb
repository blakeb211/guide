{
 "cells": [
  {
   "cell_type": "code",
   "execution_count": 5,
   "id": "cf47b8b5-6998-47e6-9cf1-a3cdb6429f0f",
   "metadata": {},
   "outputs": [],
   "source": [
    "import pandas as pd\n",
    "import numpy as np\n",
    "import heapq\n",
    "import pdb\n",
    "import math, sys\n",
    "from scipy.stats import chi2_contingency, chi2\n",
    "from collections import defaultdict\n",
    "from itertools import combinations, chain\n",
    "from io import StringIO"
   ]
  },
  {
   "cell_type": "code",
   "execution_count": 55,
   "id": "ebc69f6f-1fbf-4689-9e2a-561ff24aee6d",
   "metadata": {},
   "outputs": [],
   "source": [
    "df = pd.read_csv(StringIO(\"\"\"\n",
    "idx     politis  strikes\n",
    "44     47.3     30.0\n",
    "45     47.3     49.0\n",
    "46     46.1    277.0\n",
    "47     46.1     15.0\n",
    "48     46.1     15.0\n",
    "49     46.1     64.0\n",
    "50     47.9     30.0\n",
    "51     47.9      7.0\n",
    "52     47.9      3.0\n",
    "53     47.9      8.0\n",
    "54     49.1     11.0\n",
    "55     49.1      2.0\n",
    "56     50.8      6.0\n",
    "57     50.8     61.0\n",
    "58     50.8      3.0\n",
    "59     50.8      2.0\n",
    "60     50.8      0.0\n",
    "61     50.8      0.0\n",
    "62     50.8      4.0\n",
    "63     51.9      0.0\n",
    "64     51.9      6.0\n",
    "65     51.9      1.0\n",
    "\"\"\"),delim_whitespace=True)\n",
    "df.drop(columns=['idx'], inplace=True)\n",
    "with open(\"num_split_test.txt\", 'w') as f: f.write(df.to_string(index=False))"
   ]
  },
  {
   "cell_type": "code",
   "execution_count": null,
   "id": "4f611273-a740-4e25-8586-14dce09d376f",
   "metadata": {},
   "outputs": [],
   "source": []
  },
  {
   "cell_type": "code",
   "execution_count": 57,
   "id": "3e2d988e-3dfd-4f6c-a57f-e76677be0c1d",
   "metadata": {},
   "outputs": [],
   "source": [
    "uniq = np.sort(df['politis'].unique())\n",
    "cutpoints = uniq[0:-1] + np.diff(uniq)/2"
   ]
  },
  {
   "cell_type": "code",
   "execution_count": 74,
   "id": "3c52a844-2423-4e6e-97db-44e39d37e4a5",
   "metadata": {},
   "outputs": [],
   "source": []
  },
  {
   "cell_type": "code",
   "execution_count": 81,
   "id": "94859122-8490-4dd0-a6bf-9f9e6332f6ce",
   "metadata": {},
   "outputs": [
    {
     "data": {
      "text/html": [
       "<div>\n",
       "<style scoped>\n",
       "    .dataframe tbody tr th:only-of-type {\n",
       "        vertical-align: middle;\n",
       "    }\n",
       "\n",
       "    .dataframe tbody tr th {\n",
       "        vertical-align: top;\n",
       "    }\n",
       "\n",
       "    .dataframe thead th {\n",
       "        text-align: right;\n",
       "    }\n",
       "</style>\n",
       "<table border=\"1\" class=\"dataframe\">\n",
       "  <thead>\n",
       "    <tr style=\"text-align: right;\">\n",
       "      <th></th>\n",
       "      <th>0</th>\n",
       "      <th>1</th>\n",
       "    </tr>\n",
       "  </thead>\n",
       "  <tbody>\n",
       "    <tr>\n",
       "      <th>0</th>\n",
       "      <td>46.70</td>\n",
       "      <td>21134.972222</td>\n",
       "    </tr>\n",
       "    <tr>\n",
       "      <th>1</th>\n",
       "      <td>47.60</td>\n",
       "      <td>19008.000000</td>\n",
       "    </tr>\n",
       "    <tr>\n",
       "      <th>2</th>\n",
       "      <td>48.50</td>\n",
       "      <td>9530.400000</td>\n",
       "    </tr>\n",
       "    <tr>\n",
       "      <th>3</th>\n",
       "      <td>49.95</td>\n",
       "      <td>6410.983333</td>\n",
       "    </tr>\n",
       "    <tr>\n",
       "      <th>4</th>\n",
       "      <td>51.35</td>\n",
       "      <td>2113.543860</td>\n",
       "    </tr>\n",
       "  </tbody>\n",
       "</table>\n",
       "</div>"
      ],
      "text/plain": [
       "       0             1\n",
       "0  46.70  21134.972222\n",
       "1  47.60  19008.000000\n",
       "2  48.50   9530.400000\n",
       "3  49.95   6410.983333\n",
       "4  51.35   2113.543860"
      ]
     },
     "execution_count": 81,
     "metadata": {},
     "output_type": "execute_result"
    }
   ],
   "source": [
    "res = []\n",
    "for cut in cutpoints:\n",
    "    left = df[df['politis'] <= cut]\n",
    "    right = df.drop(left.index)\n",
    "    node_sse = ((df['strikes'] - df['strikes'].mean())**2).sum()\n",
    "    left_sse = ((left.strikes - left.strikes.mean())**2).sum()\n",
    "    right_sse = ((right.strikes - right.strikes.mean())**2).sum()\n",
    "    tot_sse = node_sse - left_sse - right_sse\n",
    "    res.append( (cut, tot_sse) )\n",
    "pd.DataFrame(res)"
   ]
  },
  {
   "cell_type": "code",
   "execution_count": null,
   "id": "14456045-772d-46e6-9976-b064007f664b",
   "metadata": {},
   "outputs": [],
   "source": []
  },
  {
   "cell_type": "code",
   "execution_count": 59,
   "id": "ebb0e96d-1ee3-466a-bad4-52366dcb66e3",
   "metadata": {},
   "outputs": [
    {
     "data": {
      "text/plain": [
       "array([46.7 , 47.6 , 48.5 , 49.95, 51.35])"
      ]
     },
     "execution_count": 59,
     "metadata": {},
     "output_type": "execute_result"
    }
   ],
   "source": [
    "cutpoints"
   ]
  },
  {
   "cell_type": "code",
   "execution_count": null,
   "id": "56cd3ebc-076b-4e25-bd73-6d6203c73bf8",
   "metadata": {},
   "outputs": [],
   "source": [
    "\n",
    "for cut in cutpoints:\n",
    "    "
   ]
  }
 ],
 "metadata": {
  "kernelspec": {
   "display_name": "myenv",
   "language": "python",
   "name": "myenv"
  },
  "language_info": {
   "codemirror_mode": {
    "name": "ipython",
    "version": 3
   },
   "file_extension": ".py",
   "mimetype": "text/x-python",
   "name": "python",
   "nbconvert_exporter": "python",
   "pygments_lexer": "ipython3",
   "version": "3.10.12"
  }
 },
 "nbformat": 4,
 "nbformat_minor": 5
}
