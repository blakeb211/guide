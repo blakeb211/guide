{
 "cells": [
  {
   "cell_type": "code",
   "execution_count": 1,
   "id": "cf47b8b5-6998-47e6-9cf1-a3cdb6429f0f",
   "metadata": {},
   "outputs": [],
   "source": [
    "import pandas as pd\n",
    "import numpy as np\n",
    "import heapq\n",
    "import pdb"
   ]
  },
  {
   "cell_type": "code",
   "execution_count": 2,
   "id": "ac9ab3ee-7eea-4015-8650-07e31a4cfefd",
   "metadata": {},
   "outputs": [
    {
     "name": "stdout",
     "output_type": "stream",
     "text": [
      "ce_reg_pred_0.csv\t    iterate.py\t     __pycache__\n",
      "chi_squared.py\t\t    Makefile\t     README.md\n",
      "Datafiles\t\t    myenv\t     requirements.txt\n",
      "datafiles.tar.gz\t    node.py\t     test.bat\n",
      "docs\t\t\t    other_data\t     tests\n",
      "function_names_from_binary  parse.py\n",
      "guide\t\t\t    prototype.ipynb\n"
     ]
    }
   ],
   "source": [
    "!ls"
   ]
  },
  {
   "cell_type": "code",
   "execution_count": 3,
   "id": "676a860b-24b0-4842-b34f-95ffad02879e",
   "metadata": {},
   "outputs": [],
   "source": [
    "df = pd.read_csv(\"tests/data-tiniest2/data.txt\",delim_whitespace=True)"
   ]
  },
  {
   "cell_type": "code",
   "execution_count": 4,
   "id": "572520ae-43c8-4cbb-a2e3-b0f1b274d7da",
   "metadata": {},
   "outputs": [
    {
     "data": {
      "text/plain": [
       "Index(['target', 'num1', 'num2', 'num3'], dtype='object')"
      ]
     },
     "execution_count": 4,
     "metadata": {},
     "output_type": "execute_result"
    }
   ],
   "source": [
    "df.columns"
   ]
  },
  {
   "cell_type": "code",
   "execution_count": 5,
   "id": "907705ad-4e2a-47a4-afbb-ede9e3df299b",
   "metadata": {},
   "outputs": [
    {
     "data": {
      "text/plain": [
       "0     1.0\n",
       "1     1.1\n",
       "2     1.2\n",
       "3     1.3\n",
       "4     1.4\n",
       "5     1.5\n",
       "6     1.6\n",
       "7     1.7\n",
       "8     1.8\n",
       "9     1.9\n",
       "10    2.0\n",
       "11    2.1\n",
       "12    2.2\n",
       "13    2.3\n",
       "14    2.4\n",
       "15    2.5\n",
       "16    2.6\n",
       "17    2.7\n",
       "18    2.8\n",
       "19    2.9\n",
       "20    3.0\n",
       "21    3.1\n",
       "22    3.2\n",
       "23    3.3\n",
       "24    3.4\n",
       "25    3.5\n",
       "26    3.6\n",
       "27    3.7\n",
       "28    3.8\n",
       "29    3.9\n",
       "Name: num1, dtype: float64"
      ]
     },
     "execution_count": 5,
     "metadata": {},
     "output_type": "execute_result"
    }
   ],
   "source": [
    "df['num1']"
   ]
  },
  {
   "cell_type": "code",
   "execution_count": 6,
   "id": "49bff3c6-674d-44d3-af83-8b78bcc408ce",
   "metadata": {},
   "outputs": [],
   "source": [
    "for col in df.columns:\n",
    "    quartile_edges= np.percentile(df[col].values, [25,50,75,100],method='linear')"
   ]
  },
  {
   "cell_type": "code",
   "execution_count": 7,
   "id": "3997e016-4b84-46a9-96a0-3cc589d012d2",
   "metadata": {},
   "outputs": [
    {
     "data": {
      "text/plain": [
       "array([0.32841209, 0.55426376, 0.66929288, 0.94757109])"
      ]
     },
     "execution_count": 7,
     "metadata": {},
     "output_type": "execute_result"
    }
   ],
   "source": [
    "quartile_edges"
   ]
  },
  {
   "cell_type": "code",
   "execution_count": 8,
   "id": "8c0fd213-227a-4a2f-84bf-e9d28d761294",
   "metadata": {},
   "outputs": [],
   "source": [
    "stat_pval = {'num1': 0.3992086966088876, 'num2': 7.5506181559256826e-06, 'num3' : 0.5394739470309722}\n",
    " "
   ]
  },
  {
   "cell_type": "code",
   "execution_count": 9,
   "id": "87f52f6a-8257-4aba-ac72-3f604491a2a8",
   "metadata": {},
   "outputs": [
    {
     "data": {
      "text/plain": [
       "{'num1': 0.3992086966088876,\n",
       " 'num2': 7.5506181559256826e-06,\n",
       " 'num3': 0.5394739470309722}"
      ]
     },
     "execution_count": 9,
     "metadata": {},
     "output_type": "execute_result"
    }
   ],
   "source": [
    "stat_pval"
   ]
  },
  {
   "cell_type": "code",
   "execution_count": 10,
   "id": "75e78cf5-4378-4ad1-b8a3-0eda89c75eb2",
   "metadata": {},
   "outputs": [],
   "source": [
    "top_3_keys = {key: value for key, value in stat_pval.items(\n",
    "        ) if value in heapq.nsmallest(3, stat_pval.values())}"
   ]
  },
  {
   "cell_type": "code",
   "execution_count": 11,
   "id": "22327f7e-541a-40e4-ae22-657161085927",
   "metadata": {},
   "outputs": [
    {
     "data": {
      "text/plain": [
       "{'num1': 0.3992086966088876,\n",
       " 'num2': 7.5506181559256826e-06,\n",
       " 'num3': 0.5394739470309722}"
      ]
     },
     "execution_count": 11,
     "metadata": {},
     "output_type": "execute_result"
    }
   ],
   "source": [
    "top_3_keys"
   ]
  },
  {
   "cell_type": "code",
   "execution_count": 12,
   "id": "800a9de7-46ff-439f-9d63-fba81746e316",
   "metadata": {},
   "outputs": [],
   "source": [
    "top_3_keys = sorted(top_3_keys.items(),key=lambda x:x[1])"
   ]
  },
  {
   "cell_type": "code",
   "execution_count": 13,
   "id": "4ef7d995-27ee-4999-85c9-a9e7ee727d1f",
   "metadata": {},
   "outputs": [],
   "source": [
    "split_var = top_3_keys[0][0]\n",
    "col = split_var\n"
   ]
  },
  {
   "cell_type": "code",
   "execution_count": 14,
   "id": "1d1361a9-7e46-43cf-a07f-f2950967d268",
   "metadata": {},
   "outputs": [],
   "source": [
    "x_uniq = df[col].drop_duplicates().sort_values()\n",
    "cutpoints = x_uniq[:-1] + np.diff(x_uniq)/2\n"
   ]
  },
  {
   "cell_type": "code",
   "execution_count": 15,
   "id": "cad08574-07a6-4d5a-b446-bfef3c4925cb",
   "metadata": {},
   "outputs": [
    {
     "data": {
      "text/plain": [
       "23    0.5\n",
       "6     1.5\n",
       "2     2.5\n",
       "1     3.5\n",
       "7     4.5\n",
       "0     5.5\n",
       "18    6.5\n",
       "3     7.5\n",
       "13    8.5\n",
       "Name: num2, dtype: float64"
      ]
     },
     "execution_count": 15,
     "metadata": {},
     "output_type": "execute_result"
    }
   ],
   "source": [
    "cutpoints"
   ]
  },
  {
   "cell_type": "code",
   "execution_count": 20,
   "id": "322b4982-86a1-463e-ba2e-8b1e08aa04ee",
   "metadata": {},
   "outputs": [
    {
     "name": "stdout",
     "output_type": "stream",
     "text": [
      "0.5 19.766722689075632\n",
      "1.5 53.37529411764708\n",
      "2.5 54.372794117647054\n",
      "3.5 41.339294117647036\n",
      "4.5 nan\n",
      "5.5 nan\n",
      "6.5 nan\n",
      "7.5 nan\n",
      "8.5 nan\n"
     ]
    }
   ],
   "source": [
    "#for cut in cutpoints:\n",
    "#    right_idx = df[df[col] < cut].index.values\n",
    "#    left_idx = df[df[col] >= cut].index.values\n",
    "#    tot_items = len(right_idx) + len(left_idx)\n",
    "#    weights = tot_items / tot_items, len(right_idx)/tot_items, len(left_idx)/tot_items\n",
    "#    # Is this correct calculation of sse using the child node means to get the sse on the left and right?\n",
    "#    left_resid = df.loc[left_idx, self.tgt] - df.loc[left_idx, self.tgt].mean()\n",
    "#    right_resid = df.loc[right_idx, self.tgt] - df.loc[right_idx, self.tgt].mean()\n",
    "#    node_resid = df[self.tgt].values - node.y_mean\n",
    "#    tot_sse = weights[0]*_sse(node_resid) - weights[1] * \\\n",
    "#        _sse(right_resid) - weights[2]*_sse(left_resid)\n",
    "#    if smallest_tot_sse == None or smallest_tot_sse > tot_sse:\n",
    "#        smallest_tot_sse = tot_sse\n",
    "#        cut_with_smallest_sse = cut\n",
    "old_df = df\n",
    "df = df.loc[df['num2'] <= 4.5]\n",
    "greatest_tot_sse = None\n",
    "node_sse = ((df.target - df.target.mean())**2).sum()\n",
    "best_cut = None\n",
    "for cut in cutpoints:\n",
    "    right_idx = df[df[col] > cut].index\n",
    "    left_idx = df.drop(right_idx, axis=0).index\n",
    "    left_mean = df.loc[left_idx].target.mean()\n",
    "    right_mean = df.loc[right_idx].target.mean()\n",
    "    tot_items = len(left_idx) + len(right_idx)\n",
    "    #left_sse = ((df.loc[left_idx].target - left_mean)**2).sum()\n",
    "    #right_sse = ((df.loc[right_idx].target - right_mean)**2).sum()\n",
    "    nAL = len(left_idx)\n",
    "    nAR = len(right_idx)\n",
    "    cut_sse = (nAL * nAR / tot_items) * (left_mean - right_mean)**2\n",
    "    #weights = 1, len(left_idx) / tot_items, len(right_idx) / tot_items\n",
    "    #cut_sse = weights[0]*node_sse - weights[1]*left_sse - weights[2]*right_sse\n",
    "    print(cut, cut_sse)\n",
    "    if greatest_tot_sse == None or cut_sse > greatest_tot_sse:\n",
    "        greatest_tot_sse = cut_sse\n",
    "        best_cut = cut\n",
    "        \n",
    "        "
   ]
  },
  {
   "cell_type": "code",
   "execution_count": 21,
   "id": "54399876-6912-4d5c-be8d-9cd130e784d1",
   "metadata": {},
   "outputs": [
    {
     "data": {
      "text/plain": [
       "2.5"
      ]
     },
     "execution_count": 21,
     "metadata": {},
     "output_type": "execute_result"
    }
   ],
   "source": [
    "best_cut"
   ]
  },
  {
   "cell_type": "code",
   "execution_count": 18,
   "id": "d882481e-1ac0-4453-bce6-a4e49dab3a6c",
   "metadata": {},
   "outputs": [
    {
     "data": {
      "text/plain": [
       "30"
      ]
     },
     "execution_count": 18,
     "metadata": {},
     "output_type": "execute_result"
    }
   ],
   "source": [
    "len(df)"
   ]
  },
  {
   "cell_type": "code",
   "execution_count": 19,
   "id": "8d0ad1e5-2c29-4f7b-b2bc-fa44093df187",
   "metadata": {},
   "outputs": [
    {
     "data": {
      "text/html": [
       "<div>\n",
       "<style scoped>\n",
       "    .dataframe tbody tr th:only-of-type {\n",
       "        vertical-align: middle;\n",
       "    }\n",
       "\n",
       "    .dataframe tbody tr th {\n",
       "        vertical-align: top;\n",
       "    }\n",
       "\n",
       "    .dataframe thead th {\n",
       "        text-align: right;\n",
       "    }\n",
       "</style>\n",
       "<table border=\"1\" class=\"dataframe\">\n",
       "  <thead>\n",
       "    <tr style=\"text-align: right;\">\n",
       "      <th></th>\n",
       "      <th>target</th>\n",
       "      <th>num1</th>\n",
       "      <th>num2</th>\n",
       "      <th>num3</th>\n",
       "    </tr>\n",
       "  </thead>\n",
       "  <tbody>\n",
       "    <tr>\n",
       "      <th>0</th>\n",
       "      <td>11.0</td>\n",
       "      <td>1.0</td>\n",
       "      <td>5</td>\n",
       "      <td>0.089177</td>\n",
       "    </tr>\n",
       "    <tr>\n",
       "      <th>1</th>\n",
       "      <td>7.1</td>\n",
       "      <td>1.1</td>\n",
       "      <td>3</td>\n",
       "      <td>0.665040</td>\n",
       "    </tr>\n",
       "    <tr>\n",
       "      <th>2</th>\n",
       "      <td>5.2</td>\n",
       "      <td>1.2</td>\n",
       "      <td>2</td>\n",
       "      <td>0.935025</td>\n",
       "    </tr>\n",
       "    <tr>\n",
       "      <th>3</th>\n",
       "      <td>15.3</td>\n",
       "      <td>1.3</td>\n",
       "      <td>7</td>\n",
       "      <td>0.670711</td>\n",
       "    </tr>\n",
       "    <tr>\n",
       "      <th>4</th>\n",
       "      <td>11.4</td>\n",
       "      <td>1.4</td>\n",
       "      <td>5</td>\n",
       "      <td>0.653010</td>\n",
       "    </tr>\n",
       "    <tr>\n",
       "      <th>5</th>\n",
       "      <td>11.5</td>\n",
       "      <td>1.5</td>\n",
       "      <td>5</td>\n",
       "      <td>0.478610</td>\n",
       "    </tr>\n",
       "    <tr>\n",
       "      <th>6</th>\n",
       "      <td>3.6</td>\n",
       "      <td>1.6</td>\n",
       "      <td>1</td>\n",
       "      <td>0.623726</td>\n",
       "    </tr>\n",
       "    <tr>\n",
       "      <th>7</th>\n",
       "      <td>9.7</td>\n",
       "      <td>1.7</td>\n",
       "      <td>4</td>\n",
       "      <td>0.111696</td>\n",
       "    </tr>\n",
       "    <tr>\n",
       "      <th>8</th>\n",
       "      <td>7.8</td>\n",
       "      <td>1.8</td>\n",
       "      <td>3</td>\n",
       "      <td>0.887405</td>\n",
       "    </tr>\n",
       "    <tr>\n",
       "      <th>9</th>\n",
       "      <td>3.9</td>\n",
       "      <td>1.9</td>\n",
       "      <td>1</td>\n",
       "      <td>0.312382</td>\n",
       "    </tr>\n",
       "    <tr>\n",
       "      <th>10</th>\n",
       "      <td>6.0</td>\n",
       "      <td>2.0</td>\n",
       "      <td>2</td>\n",
       "      <td>0.752024</td>\n",
       "    </tr>\n",
       "    <tr>\n",
       "      <th>11</th>\n",
       "      <td>4.1</td>\n",
       "      <td>2.1</td>\n",
       "      <td>1</td>\n",
       "      <td>0.450342</td>\n",
       "    </tr>\n",
       "    <tr>\n",
       "      <th>12</th>\n",
       "      <td>8.2</td>\n",
       "      <td>2.2</td>\n",
       "      <td>3</td>\n",
       "      <td>0.473743</td>\n",
       "    </tr>\n",
       "    <tr>\n",
       "      <th>13</th>\n",
       "      <td>18.3</td>\n",
       "      <td>2.3</td>\n",
       "      <td>8</td>\n",
       "      <td>0.581083</td>\n",
       "    </tr>\n",
       "    <tr>\n",
       "      <th>14</th>\n",
       "      <td>16.4</td>\n",
       "      <td>2.4</td>\n",
       "      <td>7</td>\n",
       "      <td>0.543440</td>\n",
       "    </tr>\n",
       "    <tr>\n",
       "      <th>15</th>\n",
       "      <td>6.5</td>\n",
       "      <td>2.5</td>\n",
       "      <td>2</td>\n",
       "      <td>0.376503</td>\n",
       "    </tr>\n",
       "    <tr>\n",
       "      <th>16</th>\n",
       "      <td>4.6</td>\n",
       "      <td>2.6</td>\n",
       "      <td>1</td>\n",
       "      <td>0.077298</td>\n",
       "    </tr>\n",
       "    <tr>\n",
       "      <th>17</th>\n",
       "      <td>10.7</td>\n",
       "      <td>2.7</td>\n",
       "      <td>4</td>\n",
       "      <td>0.745528</td>\n",
       "    </tr>\n",
       "    <tr>\n",
       "      <th>18</th>\n",
       "      <td>14.8</td>\n",
       "      <td>2.8</td>\n",
       "      <td>6</td>\n",
       "      <td>0.623603</td>\n",
       "    </tr>\n",
       "    <tr>\n",
       "      <th>19</th>\n",
       "      <td>14.9</td>\n",
       "      <td>2.9</td>\n",
       "      <td>6</td>\n",
       "      <td>0.596637</td>\n",
       "    </tr>\n",
       "    <tr>\n",
       "      <th>20</th>\n",
       "      <td>21.0</td>\n",
       "      <td>3.0</td>\n",
       "      <td>9</td>\n",
       "      <td>0.721632</td>\n",
       "    </tr>\n",
       "    <tr>\n",
       "      <th>21</th>\n",
       "      <td>19.1</td>\n",
       "      <td>3.1</td>\n",
       "      <td>8</td>\n",
       "      <td>0.060194</td>\n",
       "    </tr>\n",
       "    <tr>\n",
       "      <th>22</th>\n",
       "      <td>7.2</td>\n",
       "      <td>3.2</td>\n",
       "      <td>2</td>\n",
       "      <td>0.947571</td>\n",
       "    </tr>\n",
       "    <tr>\n",
       "      <th>23</th>\n",
       "      <td>3.3</td>\n",
       "      <td>3.3</td>\n",
       "      <td>0</td>\n",
       "      <td>0.066420</td>\n",
       "    </tr>\n",
       "    <tr>\n",
       "      <th>24</th>\n",
       "      <td>5.4</td>\n",
       "      <td>3.4</td>\n",
       "      <td>1</td>\n",
       "      <td>0.565088</td>\n",
       "    </tr>\n",
       "    <tr>\n",
       "      <th>25</th>\n",
       "      <td>13.5</td>\n",
       "      <td>3.5</td>\n",
       "      <td>5</td>\n",
       "      <td>0.687225</td>\n",
       "    </tr>\n",
       "    <tr>\n",
       "      <th>26</th>\n",
       "      <td>19.6</td>\n",
       "      <td>3.6</td>\n",
       "      <td>8</td>\n",
       "      <td>0.448139</td>\n",
       "    </tr>\n",
       "    <tr>\n",
       "      <th>27</th>\n",
       "      <td>3.7</td>\n",
       "      <td>3.7</td>\n",
       "      <td>0</td>\n",
       "      <td>0.155947</td>\n",
       "    </tr>\n",
       "    <tr>\n",
       "      <th>28</th>\n",
       "      <td>3.8</td>\n",
       "      <td>3.8</td>\n",
       "      <td>0</td>\n",
       "      <td>0.164277</td>\n",
       "    </tr>\n",
       "    <tr>\n",
       "      <th>29</th>\n",
       "      <td>21.9</td>\n",
       "      <td>3.9</td>\n",
       "      <td>9</td>\n",
       "      <td>0.502506</td>\n",
       "    </tr>\n",
       "  </tbody>\n",
       "</table>\n",
       "</div>"
      ],
      "text/plain": [
       "    target  num1  num2      num3\n",
       "0     11.0   1.0     5  0.089177\n",
       "1      7.1   1.1     3  0.665040\n",
       "2      5.2   1.2     2  0.935025\n",
       "3     15.3   1.3     7  0.670711\n",
       "4     11.4   1.4     5  0.653010\n",
       "5     11.5   1.5     5  0.478610\n",
       "6      3.6   1.6     1  0.623726\n",
       "7      9.7   1.7     4  0.111696\n",
       "8      7.8   1.8     3  0.887405\n",
       "9      3.9   1.9     1  0.312382\n",
       "10     6.0   2.0     2  0.752024\n",
       "11     4.1   2.1     1  0.450342\n",
       "12     8.2   2.2     3  0.473743\n",
       "13    18.3   2.3     8  0.581083\n",
       "14    16.4   2.4     7  0.543440\n",
       "15     6.5   2.5     2  0.376503\n",
       "16     4.6   2.6     1  0.077298\n",
       "17    10.7   2.7     4  0.745528\n",
       "18    14.8   2.8     6  0.623603\n",
       "19    14.9   2.9     6  0.596637\n",
       "20    21.0   3.0     9  0.721632\n",
       "21    19.1   3.1     8  0.060194\n",
       "22     7.2   3.2     2  0.947571\n",
       "23     3.3   3.3     0  0.066420\n",
       "24     5.4   3.4     1  0.565088\n",
       "25    13.5   3.5     5  0.687225\n",
       "26    19.6   3.6     8  0.448139\n",
       "27     3.7   3.7     0  0.155947\n",
       "28     3.8   3.8     0  0.164277\n",
       "29    21.9   3.9     9  0.502506"
      ]
     },
     "execution_count": 19,
     "metadata": {},
     "output_type": "execute_result"
    }
   ],
   "source": [
    "df"
   ]
  },
  {
   "cell_type": "code",
   "execution_count": null,
   "id": "80e9cf3b-c1e9-4243-8518-b354e92e62be",
   "metadata": {},
   "outputs": [],
   "source": []
  }
 ],
 "metadata": {
  "kernelspec": {
   "display_name": "myenv",
   "language": "python",
   "name": "myenv"
  },
  "language_info": {
   "codemirror_mode": {
    "name": "ipython",
    "version": 3
   },
   "file_extension": ".py",
   "mimetype": "text/x-python",
   "name": "python",
   "nbconvert_exporter": "python",
   "pygments_lexer": "ipython3",
   "version": "3.10.12"
  }
 },
 "nbformat": 4,
 "nbformat_minor": 5
}
