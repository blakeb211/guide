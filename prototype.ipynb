{
 "cells": [
  {
   "cell_type": "code",
   "execution_count": 64,
   "id": "cf47b8b5-6998-47e6-9cf1-a3cdb6429f0f",
   "metadata": {},
   "outputs": [],
   "source": [
    "import pandas as pd\n",
    "import numpy as np\n",
    "import heapq\n",
    "import pdb"
   ]
  },
  {
   "cell_type": "code",
   "execution_count": 42,
   "id": "ac9ab3ee-7eea-4015-8650-07e31a4cfefd",
   "metadata": {},
   "outputs": [
    {
     "name": "stdout",
     "output_type": "stream",
     "text": [
      "ce_reg_pred_0.csv\t    iterate.py\t     __pycache__\n",
      "chi_squared.py\t\t    Makefile\t     README.md\n",
      "Datafiles\t\t    myenv\t     requirements.txt\n",
      "datafiles.tar.gz\t    node.py\t     test.bat\n",
      "docs\t\t\t    other_data\t     tests\n",
      "function_names_from_binary  parse.py\n",
      "guide\t\t\t    prototype.ipynb\n"
     ]
    }
   ],
   "source": [
    "!ls"
   ]
  },
  {
   "cell_type": "code",
   "execution_count": 43,
   "id": "676a860b-24b0-4842-b34f-95ffad02879e",
   "metadata": {},
   "outputs": [],
   "source": [
    "df = pd.read_csv(\"tests/data-tiniest2/data.txt\",delim_whitespace=True)"
   ]
  },
  {
   "cell_type": "code",
   "execution_count": 44,
   "id": "572520ae-43c8-4cbb-a2e3-b0f1b274d7da",
   "metadata": {},
   "outputs": [
    {
     "data": {
      "text/plain": [
       "Index(['target', 'num1', 'num2', 'num3'], dtype='object')"
      ]
     },
     "execution_count": 44,
     "metadata": {},
     "output_type": "execute_result"
    }
   ],
   "source": [
    "df.columns"
   ]
  },
  {
   "cell_type": "code",
   "execution_count": 45,
   "id": "907705ad-4e2a-47a4-afbb-ede9e3df299b",
   "metadata": {},
   "outputs": [
    {
     "data": {
      "text/plain": [
       "0     1.0\n",
       "1     1.1\n",
       "2     1.2\n",
       "3     1.3\n",
       "4     1.4\n",
       "5     1.5\n",
       "6     1.6\n",
       "7     1.7\n",
       "8     1.8\n",
       "9     1.9\n",
       "10    2.0\n",
       "11    2.1\n",
       "12    2.2\n",
       "13    2.3\n",
       "14    2.4\n",
       "15    2.5\n",
       "16    2.6\n",
       "17    2.7\n",
       "18    2.8\n",
       "19    2.9\n",
       "20    3.0\n",
       "21    3.1\n",
       "22    3.2\n",
       "23    3.3\n",
       "24    3.4\n",
       "25    3.5\n",
       "26    3.6\n",
       "27    3.7\n",
       "28    3.8\n",
       "29    3.9\n",
       "Name: num1, dtype: float64"
      ]
     },
     "execution_count": 45,
     "metadata": {},
     "output_type": "execute_result"
    }
   ],
   "source": [
    "df['num1']"
   ]
  },
  {
   "cell_type": "code",
   "execution_count": 46,
   "id": "49bff3c6-674d-44d3-af83-8b78bcc408ce",
   "metadata": {},
   "outputs": [],
   "source": [
    "for col in df.columns:\n",
    "    quartile_edges= np.percentile(df[col].values, [25,50,75,100],method='linear')"
   ]
  },
  {
   "cell_type": "code",
   "execution_count": 47,
   "id": "3997e016-4b84-46a9-96a0-3cc589d012d2",
   "metadata": {},
   "outputs": [
    {
     "data": {
      "text/plain": [
       "array([0.32841209, 0.55426376, 0.66929288, 0.94757109])"
      ]
     },
     "execution_count": 47,
     "metadata": {},
     "output_type": "execute_result"
    }
   ],
   "source": [
    "quartile_edges"
   ]
  },
  {
   "cell_type": "code",
   "execution_count": 48,
   "id": "8c0fd213-227a-4a2f-84bf-e9d28d761294",
   "metadata": {},
   "outputs": [],
   "source": [
    "stat_pval = {'num1': 0.3992086966088876, 'num2': 7.5506181559256826e-06, 'num3' : 0.5394739470309722}\n",
    " "
   ]
  },
  {
   "cell_type": "code",
   "execution_count": 49,
   "id": "87f52f6a-8257-4aba-ac72-3f604491a2a8",
   "metadata": {},
   "outputs": [
    {
     "data": {
      "text/plain": [
       "{'num1': 0.3992086966088876,\n",
       " 'num2': 7.5506181559256826e-06,\n",
       " 'num3': 0.5394739470309722}"
      ]
     },
     "execution_count": 49,
     "metadata": {},
     "output_type": "execute_result"
    }
   ],
   "source": [
    "stat_pval"
   ]
  },
  {
   "cell_type": "code",
   "execution_count": 50,
   "id": "75e78cf5-4378-4ad1-b8a3-0eda89c75eb2",
   "metadata": {},
   "outputs": [],
   "source": [
    "top_3_keys = {key: value for key, value in stat_pval.items(\n",
    "        ) if value in heapq.nsmallest(3, stat_pval.values())}"
   ]
  },
  {
   "cell_type": "code",
   "execution_count": 51,
   "id": "22327f7e-541a-40e4-ae22-657161085927",
   "metadata": {},
   "outputs": [
    {
     "data": {
      "text/plain": [
       "{'num1': 0.3992086966088876,\n",
       " 'num2': 7.5506181559256826e-06,\n",
       " 'num3': 0.5394739470309722}"
      ]
     },
     "execution_count": 51,
     "metadata": {},
     "output_type": "execute_result"
    }
   ],
   "source": [
    "top_3_keys"
   ]
  },
  {
   "cell_type": "code",
   "execution_count": 54,
   "id": "800a9de7-46ff-439f-9d63-fba81746e316",
   "metadata": {},
   "outputs": [],
   "source": [
    "top_3_keys = sorted(top_3_keys.items(),key=lambda x:x[1])"
   ]
  },
  {
   "cell_type": "code",
   "execution_count": 60,
   "id": "4ef7d995-27ee-4999-85c9-a9e7ee727d1f",
   "metadata": {},
   "outputs": [],
   "source": [
    "split_var = top_3_keys[0][0]\n",
    "col = split_var\n"
   ]
  },
  {
   "cell_type": "code",
   "execution_count": 61,
   "id": "1d1361a9-7e46-43cf-a07f-f2950967d268",
   "metadata": {},
   "outputs": [],
   "source": [
    "x_uniq = df[col].drop_duplicates().sort_values()\n",
    "cutpoints = x_uniq[:-1] + np.diff(x_uniq)/2\n"
   ]
  },
  {
   "cell_type": "code",
   "execution_count": 62,
   "id": "cad08574-07a6-4d5a-b446-bfef3c4925cb",
   "metadata": {},
   "outputs": [
    {
     "data": {
      "text/plain": [
       "23    0.5\n",
       "6     1.5\n",
       "2     2.5\n",
       "1     3.5\n",
       "7     4.5\n",
       "0     5.5\n",
       "18    6.5\n",
       "3     7.5\n",
       "13    8.5\n",
       "Name: num2, dtype: float64"
      ]
     },
     "execution_count": 62,
     "metadata": {},
     "output_type": "execute_result"
    }
   ],
   "source": [
    "cutpoints"
   ]
  },
  {
   "cell_type": "code",
   "execution_count": 102,
   "id": "322b4982-86a1-463e-ba2e-8b1e08aa04ee",
   "metadata": {},
   "outputs": [
    {
     "name": "stdout",
     "output_type": "stream",
     "text": [
      "0.5 235.40700000000004\n",
      "1.5 582.16\n",
      "2.5 771.906\n",
      "3.5 868.299\n",
      "4.5 882.8450000000001\n",
      "5.5 843.5490000000001\n",
      "6.5 754.8296666666668\n",
      "7.5 639.1356666666667\n",
      "8.5 314.8893333333333\n"
     ]
    }
   ],
   "source": [
    "#for cut in cutpoints:\n",
    "#    right_idx = df[df[col] < cut].index.values\n",
    "#    left_idx = df[df[col] >= cut].index.values\n",
    "#    tot_items = len(right_idx) + len(left_idx)\n",
    "#    weights = tot_items / tot_items, len(right_idx)/tot_items, len(left_idx)/tot_items\n",
    "#    # Is this correct calculation of sse using the child node means to get the sse on the left and right?\n",
    "#    left_resid = df.loc[left_idx, self.tgt] - df.loc[left_idx, self.tgt].mean()\n",
    "#    right_resid = df.loc[right_idx, self.tgt] - df.loc[right_idx, self.tgt].mean()\n",
    "#    node_resid = df[self.tgt].values - node.y_mean\n",
    "#    tot_sse = weights[0]*_sse(node_resid) - weights[1] * \\\n",
    "#        _sse(right_resid) - weights[2]*_sse(left_resid)\n",
    "#    if smallest_tot_sse == None or smallest_tot_sse > tot_sse:\n",
    "#        smallest_tot_sse = tot_sse\n",
    "#        cut_with_smallest_sse = cut\n",
    "\n",
    "greatest_tot_sse = None\n",
    "node_sse = ((df.target - df.target.mean())**2).sum()\n",
    "best_cut = None\n",
    "for cut in cutpoints:\n",
    "    right_idx = df[df[col] < cut].index\n",
    "    left_idx = df.drop(right_idx, axis=0).index\n",
    "    left_mean = df.loc[left_idx].target.mean()\n",
    "    right_mean = df.loc[right_idx].target.mean()\n",
    "    tot_items = len(left_idx) + len(right_idx)\n",
    "    left_sse = ((df.loc[left_idx].target - left_mean)**2).sum()\n",
    "    right_sse = ((df.loc[right_idx].target - right_mean)**2).sum()\n",
    "    weights = 1, len(left_idx) / tot_items, len(right_idx) / tot_items\n",
    "    cut_sse = weights[0]*node_sse - weights[1]*left_sse - weights[2]*right_sse\n",
    "    print(cut, cut_sse)\n",
    "    if greatest_tot_sse == None or cut_sse > greatest_tot_sse:\n",
    "        greatest_tot_sse = cut_sse\n",
    "        best_cut = cut\n",
    "        \n",
    "        "
   ]
  },
  {
   "cell_type": "code",
   "execution_count": 103,
   "id": "54399876-6912-4d5c-be8d-9cd130e784d1",
   "metadata": {},
   "outputs": [
    {
     "data": {
      "text/plain": [
       "4.5"
      ]
     },
     "execution_count": 103,
     "metadata": {},
     "output_type": "execute_result"
    }
   ],
   "source": [
    "best_cut"
   ]
  },
  {
   "cell_type": "code",
   "execution_count": null,
   "id": "d882481e-1ac0-4453-bce6-a4e49dab3a6c",
   "metadata": {},
   "outputs": [],
   "source": []
  }
 ],
 "metadata": {
  "kernelspec": {
   "display_name": "myenv",
   "language": "python",
   "name": "myenv"
  },
  "language_info": {
   "codemirror_mode": {
    "name": "ipython",
    "version": 3
   },
   "file_extension": ".py",
   "mimetype": "text/x-python",
   "name": "python",
   "nbconvert_exporter": "python",
   "pygments_lexer": "ipython3",
   "version": "3.10.12"
  }
 },
 "nbformat": 4,
 "nbformat_minor": 5
}
