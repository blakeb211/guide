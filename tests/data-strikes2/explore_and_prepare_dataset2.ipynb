{
 "cells": [
  {
   "cell_type": "code",
   "execution_count": 1,
   "id": "6c9e33a5-c6e6-4a48-b77e-e7fdff07ae73",
   "metadata": {},
   "outputs": [],
   "source": [
    "import pandas as pd\n",
    "import matplotlib.pyplot as plt\n",
    "import numpy as np"
   ]
  },
  {
   "cell_type": "code",
   "execution_count": 2,
   "id": "863f416f-f8fc-4003-9cab-160cee0ae924",
   "metadata": {},
   "outputs": [],
   "source": [
    "df = pd.read_csv(\"data.txt\",delim_whitespace=True)"
   ]
  },
  {
   "cell_type": "code",
   "execution_count": 3,
   "id": "5f722a3d-69c8-4a81-92a5-e164b3727a22",
   "metadata": {},
   "outputs": [
    {
     "data": {
      "text/html": [
       "<div>\n",
       "<style scoped>\n",
       "    .dataframe tbody tr th:only-of-type {\n",
       "        vertical-align: middle;\n",
       "    }\n",
       "\n",
       "    .dataframe tbody tr th {\n",
       "        vertical-align: top;\n",
       "    }\n",
       "\n",
       "    .dataframe thead th {\n",
       "        text-align: right;\n",
       "    }\n",
       "</style>\n",
       "<table border=\"1\" class=\"dataframe\">\n",
       "  <thead>\n",
       "    <tr style=\"text-align: right;\">\n",
       "      <th></th>\n",
       "      <th>cat1</th>\n",
       "      <th>num1</th>\n",
       "      <th>num2</th>\n",
       "      <th>tgt</th>\n",
       "    </tr>\n",
       "  </thead>\n",
       "  <tbody>\n",
       "    <tr>\n",
       "      <th>count</th>\n",
       "      <td>625.000000</td>\n",
       "      <td>625.000000</td>\n",
       "      <td>625.000000</td>\n",
       "      <td>625.000000</td>\n",
       "    </tr>\n",
       "    <tr>\n",
       "      <th>mean</th>\n",
       "      <td>9.552000</td>\n",
       "      <td>0.993600</td>\n",
       "      <td>0.465600</td>\n",
       "      <td>206.302400</td>\n",
       "    </tr>\n",
       "    <tr>\n",
       "      <th>std</th>\n",
       "      <td>5.180177</td>\n",
       "      <td>0.820388</td>\n",
       "      <td>0.550729</td>\n",
       "      <td>231.614117</td>\n",
       "    </tr>\n",
       "    <tr>\n",
       "      <th>min</th>\n",
       "      <td>1.000000</td>\n",
       "      <td>0.000000</td>\n",
       "      <td>0.000000</td>\n",
       "      <td>0.000000</td>\n",
       "    </tr>\n",
       "    <tr>\n",
       "      <th>25%</th>\n",
       "      <td>5.000000</td>\n",
       "      <td>0.000000</td>\n",
       "      <td>0.000000</td>\n",
       "      <td>21.000000</td>\n",
       "    </tr>\n",
       "    <tr>\n",
       "      <th>50%</th>\n",
       "      <td>10.000000</td>\n",
       "      <td>1.000000</td>\n",
       "      <td>0.250000</td>\n",
       "      <td>118.000000</td>\n",
       "    </tr>\n",
       "    <tr>\n",
       "      <th>75%</th>\n",
       "      <td>14.000000</td>\n",
       "      <td>2.000000</td>\n",
       "      <td>0.750000</td>\n",
       "      <td>311.000000</td>\n",
       "    </tr>\n",
       "    <tr>\n",
       "      <th>max</th>\n",
       "      <td>18.000000</td>\n",
       "      <td>2.000000</td>\n",
       "      <td>2.000000</td>\n",
       "      <td>961.000000</td>\n",
       "    </tr>\n",
       "  </tbody>\n",
       "</table>\n",
       "</div>"
      ],
      "text/plain": [
       "             cat1        num1        num2         tgt\n",
       "count  625.000000  625.000000  625.000000  625.000000\n",
       "mean     9.552000    0.993600    0.465600  206.302400\n",
       "std      5.180177    0.820388    0.550729  231.614117\n",
       "min      1.000000    0.000000    0.000000    0.000000\n",
       "25%      5.000000    0.000000    0.000000   21.000000\n",
       "50%     10.000000    1.000000    0.250000  118.000000\n",
       "75%     14.000000    2.000000    0.750000  311.000000\n",
       "max     18.000000    2.000000    2.000000  961.000000"
      ]
     },
     "execution_count": 3,
     "metadata": {},
     "output_type": "execute_result"
    }
   ],
   "source": [
    "df.describe()"
   ]
  },
  {
   "cell_type": "code",
   "execution_count": 12,
   "id": "ecfe6b78-37eb-46d3-a847-08ccd347ee90",
   "metadata": {},
   "outputs": [
    {
     "data": {
      "text/plain": [
       "1"
      ]
     },
     "execution_count": 12,
     "metadata": {},
     "output_type": "execute_result"
    }
   ],
   "source": [
    "import random\n",
    "random.randint(0,9)"
   ]
  },
  {
   "cell_type": "code",
   "execution_count": 18,
   "id": "2c1c89a5-c24f-454d-881c-3c7ef4a8ee26",
   "metadata": {},
   "outputs": [],
   "source": [
    "txt = \"ABCDEFGHIJ\"\n",
    "df.loc[:,'cat1'] = [txt[random.randint(0,9)] for i in range(len(df))]\n",
    "df.drop(columns='cat2',inplace=True)"
   ]
  },
  {
   "cell_type": "code",
   "execution_count": 32,
   "id": "fb177b38-23a7-470f-8f2e-624cc5962baa",
   "metadata": {},
   "outputs": [],
   "source": [
    "df.loc[:,'tgt'] = [ df.tgt.iloc[i] * abs(ord(df.cat1.iloc[i]))*0.1    for i in range(len(df))]"
   ]
  },
  {
   "cell_type": "code",
   "execution_count": 33,
   "id": "dd8d447e-bde3-4fe0-8522-e850dee9d398",
   "metadata": {},
   "outputs": [
    {
     "data": {
      "text/html": [
       "<div>\n",
       "<style scoped>\n",
       "    .dataframe tbody tr th:only-of-type {\n",
       "        vertical-align: middle;\n",
       "    }\n",
       "\n",
       "    .dataframe tbody tr th {\n",
       "        vertical-align: top;\n",
       "    }\n",
       "\n",
       "    .dataframe thead th {\n",
       "        text-align: right;\n",
       "    }\n",
       "</style>\n",
       "<table border=\"1\" class=\"dataframe\">\n",
       "  <thead>\n",
       "    <tr style=\"text-align: right;\">\n",
       "      <th></th>\n",
       "      <th>num1</th>\n",
       "      <th>num2</th>\n",
       "      <th>tgt</th>\n",
       "    </tr>\n",
       "  </thead>\n",
       "  <tbody>\n",
       "    <tr>\n",
       "      <th>num1</th>\n",
       "      <td>1.000000</td>\n",
       "      <td>0.696493</td>\n",
       "      <td>0.161254</td>\n",
       "    </tr>\n",
       "    <tr>\n",
       "      <th>num2</th>\n",
       "      <td>0.696493</td>\n",
       "      <td>1.000000</td>\n",
       "      <td>-0.092810</td>\n",
       "    </tr>\n",
       "    <tr>\n",
       "      <th>tgt</th>\n",
       "      <td>0.161254</td>\n",
       "      <td>-0.092810</td>\n",
       "      <td>1.000000</td>\n",
       "    </tr>\n",
       "  </tbody>\n",
       "</table>\n",
       "</div>"
      ],
      "text/plain": [
       "          num1      num2       tgt\n",
       "num1  1.000000  0.696493  0.161254\n",
       "num2  0.696493  1.000000 -0.092810\n",
       "tgt   0.161254 -0.092810  1.000000"
      ]
     },
     "execution_count": 33,
     "metadata": {},
     "output_type": "execute_result"
    }
   ],
   "source": [
    "df[['num1','num2','tgt']].corr()"
   ]
  },
  {
   "cell_type": "code",
   "execution_count": 37,
   "id": "0dcccde6-4666-4fa7-9ef3-a4481f6dc1e4",
   "metadata": {},
   "outputs": [],
   "source": [
    "with open('data.txt', 'w') as f: df.to_string(f, col_space=10,index=False)"
   ]
  },
  {
   "cell_type": "code",
   "execution_count": 36,
   "id": "26490e56-58f5-4f16-94c5-b0b01d0ce318",
   "metadata": {},
   "outputs": [
    {
     "data": {
      "text/html": [
       "<div>\n",
       "<style scoped>\n",
       "    .dataframe tbody tr th:only-of-type {\n",
       "        vertical-align: middle;\n",
       "    }\n",
       "\n",
       "    .dataframe tbody tr th {\n",
       "        vertical-align: top;\n",
       "    }\n",
       "\n",
       "    .dataframe thead th {\n",
       "        text-align: right;\n",
       "    }\n",
       "</style>\n",
       "<table border=\"1\" class=\"dataframe\">\n",
       "  <thead>\n",
       "    <tr style=\"text-align: right;\">\n",
       "      <th></th>\n",
       "      <th>cat1</th>\n",
       "      <th>num1</th>\n",
       "      <th>num2</th>\n",
       "      <th>tgt</th>\n",
       "    </tr>\n",
       "  </thead>\n",
       "  <tbody>\n",
       "    <tr>\n",
       "      <th>0</th>\n",
       "      <td>J</td>\n",
       "      <td>2.0</td>\n",
       "      <td>0.750</td>\n",
       "      <td>16208.96</td>\n",
       "    </tr>\n",
       "    <tr>\n",
       "      <th>1</th>\n",
       "      <td>J</td>\n",
       "      <td>2.0</td>\n",
       "      <td>0.750</td>\n",
       "      <td>21739.72</td>\n",
       "    </tr>\n",
       "    <tr>\n",
       "      <th>2</th>\n",
       "      <td>F</td>\n",
       "      <td>1.0</td>\n",
       "      <td>0.375</td>\n",
       "      <td>17640.00</td>\n",
       "    </tr>\n",
       "    <tr>\n",
       "      <th>3</th>\n",
       "      <td>A</td>\n",
       "      <td>0.0</td>\n",
       "      <td>0.000</td>\n",
       "      <td>12675.00</td>\n",
       "    </tr>\n",
       "    <tr>\n",
       "      <th>4</th>\n",
       "      <td>A</td>\n",
       "      <td>0.0</td>\n",
       "      <td>0.000</td>\n",
       "      <td>13773.50</td>\n",
       "    </tr>\n",
       "    <tr>\n",
       "      <th>...</th>\n",
       "      <td>...</td>\n",
       "      <td>...</td>\n",
       "      <td>...</td>\n",
       "      <td>...</td>\n",
       "    </tr>\n",
       "    <tr>\n",
       "      <th>620</th>\n",
       "      <td>B</td>\n",
       "      <td>2.0</td>\n",
       "      <td>0.000</td>\n",
       "      <td>8102.16</td>\n",
       "    </tr>\n",
       "    <tr>\n",
       "      <th>621</th>\n",
       "      <td>A</td>\n",
       "      <td>1.0</td>\n",
       "      <td>0.000</td>\n",
       "      <td>4267.25</td>\n",
       "    </tr>\n",
       "    <tr>\n",
       "      <th>622</th>\n",
       "      <td>F</td>\n",
       "      <td>0.0</td>\n",
       "      <td>0.000</td>\n",
       "      <td>9408.00</td>\n",
       "    </tr>\n",
       "    <tr>\n",
       "      <th>623</th>\n",
       "      <td>H</td>\n",
       "      <td>1.0</td>\n",
       "      <td>0.000</td>\n",
       "      <td>4613.76</td>\n",
       "    </tr>\n",
       "    <tr>\n",
       "      <th>624</th>\n",
       "      <td>H</td>\n",
       "      <td>1.0</td>\n",
       "      <td>0.000</td>\n",
       "      <td>3784.32</td>\n",
       "    </tr>\n",
       "  </tbody>\n",
       "</table>\n",
       "<p>625 rows × 4 columns</p>\n",
       "</div>"
      ],
      "text/plain": [
       "    cat1  num1   num2       tgt\n",
       "0      J   2.0  0.750  16208.96\n",
       "1      J   2.0  0.750  21739.72\n",
       "2      F   1.0  0.375  17640.00\n",
       "3      A   0.0  0.000  12675.00\n",
       "4      A   0.0  0.000  13773.50\n",
       "..   ...   ...    ...       ...\n",
       "620    B   2.0  0.000   8102.16\n",
       "621    A   1.0  0.000   4267.25\n",
       "622    F   0.0  0.000   9408.00\n",
       "623    H   1.0  0.000   4613.76\n",
       "624    H   1.0  0.000   3784.32\n",
       "\n",
       "[625 rows x 4 columns]"
      ]
     },
     "execution_count": 36,
     "metadata": {},
     "output_type": "execute_result"
    }
   ],
   "source": [
    "df"
   ]
  },
  {
   "cell_type": "code",
   "execution_count": null,
   "id": "764d8733-0a7d-454d-ad78-4dbd01783688",
   "metadata": {},
   "outputs": [],
   "source": []
  }
 ],
 "metadata": {
  "kernelspec": {
   "display_name": "myenv",
   "language": "python",
   "name": "myenv"
  },
  "language_info": {
   "codemirror_mode": {
    "name": "ipython",
    "version": 3
   },
   "file_extension": ".py",
   "mimetype": "text/x-python",
   "name": "python",
   "nbconvert_exporter": "python",
   "pygments_lexer": "ipython3",
   "version": "3.10.12"
  }
 },
 "nbformat": 4,
 "nbformat_minor": 5
}
