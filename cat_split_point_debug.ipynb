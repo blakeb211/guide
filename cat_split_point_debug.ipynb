{
 "cells": [
  {
   "cell_type": "code",
   "execution_count": 7,
   "id": "cf47b8b5-6998-47e6-9cf1-a3cdb6429f0f",
   "metadata": {},
   "outputs": [],
   "source": [
    "import pandas as pd\n",
    "import numpy as np\n",
    "import heapq\n",
    "import pdb\n",
    "import math, sys\n",
    "from scipy.stats import chi2_contingency, chi2\n",
    "from collections import defaultdict\n",
    "from itertools import combinations, chain"
   ]
  },
  {
   "cell_type": "code",
   "execution_count": 39,
   "id": "75e78cf5-4378-4ad1-b8a3-0eda89c75eb2",
   "metadata": {},
   "outputs": [],
   "source": [
    "## Set up test case for particular node\n",
    "df = pd.read_csv(\"tests/data-strikes2/data.txt\", delim_whitespace=True)\n",
    "GOTO_NODE = True\n",
    "if GOTO_NODE:\n",
    "    _df = df.loc[df['num1'] <= 1.5]\n",
    "    _df = _df.loc[_df['num2'] <= 0.4375]\n",
    "    _df = _df.loc[_df['num1'] <= 0.5]\n",
    "######################################################################################\n",
    "\n",
    "col = 'cat1'\n",
    "self_tgt = 'tgt'\n",
    "node_y_mean = _df[self_tgt].mean()\n",
    "_df = _df[[col, self_tgt]]\n",
    "x_uniq = _df[col].drop_duplicates().sort_values().values\n",
    "\n",
    "node_binom = _df[self_tgt] <= node_y_mean                      # class 1 has negative residual\n",
    "_df.loc[:,self_tgt] = node_binom\n",
    "\n",
    "def pi(j):\n",
    "    \"\"\" prior probability of the class in the node \"\"\"\n",
    "    if j == 1: return _df[self_tgt].mean()\n",
    "    # if j == 1: return (df[self_tgt] < df[self_tgt].mean()).mean()\n",
    "    if j == 0: return 1.0 - pi(1)\n",
    "    raise \"fail\"\n",
    "    \n",
    "def N_j_l(j,s):\n",
    "    \"\"\" num cases of class j in subset s\"\"\"\n",
    "    assert j == 0 or j == 1\n",
    "    return _df[(_df[self_tgt] == j) & (_df[col]== s)].shape[0]\n",
    "    \n",
    "def p(j, subset_l) -> float:\n",
    "    \"\"\" weighted probability of class j in the subset?? \"\"\"\n",
    "    assert j == 0 or j == 1\n",
    "    return pi(j)*N_j_l(j, subset_l) / ( pi(1)*N_j_l(1, subset_l) + pi(0)*N_j_l(0, subset_l) )\n",
    "\n",
    "\n",
    "sorted_ps = sorted([(s, p(1, s)) for s in x_uniq],key=lambda x:x[1])\n",
    "sorted_ps = [s for s,_ in sorted_ps]\n",
    "st = 0\n",
    "en = 0\n",
    "subsets = [sorted_ps[st:en] for en in range(1,len(x_uniq))]\n"
   ]
  },
  {
   "cell_type": "code",
   "execution_count": 40,
   "id": "bf00fba9-35bd-420f-9e91-2e79e352a9b3",
   "metadata": {},
   "outputs": [
    {
     "data": {
      "text/plain": [
       "[['A'],\n",
       " ['A', 'J'],\n",
       " ['A', 'J', 'H'],\n",
       " ['A', 'J', 'H', 'G'],\n",
       " ['A', 'J', 'H', 'G', 'D'],\n",
       " ['A', 'J', 'H', 'G', 'D', 'E'],\n",
       " ['A', 'J', 'H', 'G', 'D', 'E', 'F'],\n",
       " ['A', 'J', 'H', 'G', 'D', 'E', 'F', 'I'],\n",
       " ['A', 'J', 'H', 'G', 'D', 'E', 'F', 'I', 'B']]"
      ]
     },
     "execution_count": 40,
     "metadata": {},
     "output_type": "execute_result"
    }
   ],
   "source": [
    "subsets"
   ]
  },
  {
   "cell_type": "code",
   "execution_count": null,
   "id": "9c4671dc-75ff-4be8-a121-2e2d1df723e2",
   "metadata": {},
   "outputs": [],
   "source": []
  }
 ],
 "metadata": {
  "kernelspec": {
   "display_name": "myenv",
   "language": "python",
   "name": "myenv"
  },
  "language_info": {
   "codemirror_mode": {
    "name": "ipython",
    "version": 3
   },
   "file_extension": ".py",
   "mimetype": "text/x-python",
   "name": "python",
   "nbconvert_exporter": "python",
   "pygments_lexer": "ipython3",
   "version": "3.10.12"
  }
 },
 "nbformat": 4,
 "nbformat_minor": 5
}
