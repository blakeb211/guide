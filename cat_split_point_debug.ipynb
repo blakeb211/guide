{
 "cells": [
  {
   "cell_type": "code",
   "execution_count": 105,
   "id": "cf47b8b5-6998-47e6-9cf1-a3cdb6429f0f",
   "metadata": {},
   "outputs": [],
   "source": [
    "import pandas as pd\n",
    "import numpy as np\n",
    "import heapq\n",
    "import pdb\n",
    "import math, sys\n",
    "from scipy.stats import chi2_contingency, chi2\n",
    "from collections import defaultdict\n",
    "from itertools import combinations, chain"
   ]
  },
  {
   "cell_type": "code",
   "execution_count": 110,
   "id": "75e78cf5-4378-4ad1-b8a3-0eda89c75eb2",
   "metadata": {},
   "outputs": [
    {
     "data": {
      "text/plain": [
       "array([['A', '0.5165635238441937'],\n",
       "       ['J', '0.5231497127407908'],\n",
       "       ['H', '0.5643044619422573'],\n",
       "       ['G', '0.6812289966394622'],\n",
       "       ['D', '0.7905551550108146'],\n",
       "       ['E', '0.8103940605368362'],\n",
       "       ['F', '0.8103940605368362'],\n",
       "       ['I', '0.8131472309770374'],\n",
       "       ['B', '0.8161974058842139'],\n",
       "       ['C', '0.8614357262103507']], dtype='<U32')"
      ]
     },
     "execution_count": 110,
     "metadata": {},
     "output_type": "execute_result"
    }
   ],
   "source": [
    "## Set up test case for particular node\n",
    "df = pd.read_csv(\"tests/data-strikes2/data.txt\", delim_whitespace=True)\n",
    "GOTO_NODE = True\n",
    "if GOTO_NODE:\n",
    "    _df = df.loc[df['num1'] <= 1.5]\n",
    "    _df = _df.loc[_df['num2'] <= 0.4375]\n",
    "    _df = _df.loc[_df['num1'] <= 0.5]\n",
    "######################################################################################\n",
    "\n",
    "col = 'cat1'\n",
    "self_tgt = 'tgt'\n",
    "node_y_mean = _df[self_tgt].mean()\n",
    "_df = _df[[col,self_tgt]]\n",
    "x_uniq = _df[col].drop_duplicates().sort_values().values\n",
    "\n",
    "node_binom = _df[self_tgt] <= node_y_mean                      # class 1 has negative residual\n",
    "_df.loc[:,self_tgt] = node_binom\n",
    "\n",
    "def pi(j):\n",
    "    if j == 1: return _df[self_tgt].sum() / len(_df)\n",
    "    # if j == 1: return (df[self_tgt] < df[self_tgt].mean()).mean()\n",
    "    if j == 0: return 1.0 - pi(1)\n",
    "    raise \"fail\"\n",
    "    \n",
    "def N_j_s(j,s):\n",
    "    \"\"\" num cases of class j in subset \"\"\"\n",
    "    assert j == 0 or j == 1\n",
    "    return _df[(_df[self_tgt] == j) & (_df[col]== s)].shape[0]\n",
    "    \n",
    "def p(j, subset_l) -> float:\n",
    "    assert j == 0 or j == 1\n",
    "    return pi(j)*N_j_l(j, subset_l) / ( pi(1)*N_j_l(1, subset_l) + pi(0)*N_j_l(0, subset_l) )\n",
    "    \n",
    "sorted_ps = sorted([(s, p(1, (s,))) for s in x_uniq],key=lambda x:x[1])\n",
    "\n",
    "sorted_ps = np.asarray(sorted_ps)   \n",
    "\n",
    "st = 0\n",
    "en = 0\n",
    "subsets = [sorted_ps[st:en,0]for en in range(1,len(x_uniq))]\n",
    "\n",
    "sorted_ps"
   ]
  },
  {
   "cell_type": "code",
   "execution_count": 107,
   "id": "ecdd13fe-a2d4-4d74-847b-faeb629fc3c4",
   "metadata": {},
   "outputs": [
    {
     "name": "stdout",
     "output_type": "stream",
     "text": [
      "['A']\n",
      "['A' 'J']\n",
      "['A' 'J' 'H']\n",
      "['A' 'J' 'H' 'G']\n",
      "['A' 'J' 'H' 'G' 'D']\n",
      "['A' 'J' 'H' 'G' 'D' 'E']\n",
      "['A' 'J' 'H' 'G' 'D' 'E' 'F']\n",
      "['A' 'J' 'H' 'G' 'D' 'E' 'F' 'I']\n",
      "['A' 'J' 'H' 'G' 'D' 'E' 'F' 'I' 'B']\n"
     ]
    }
   ],
   "source": [
    "for s in subsets:\n",
    "    print(s)"
   ]
  },
  {
   "cell_type": "code",
   "execution_count": 108,
   "id": "15ca7e25-c72b-4eed-8c51-f2310efe3aea",
   "metadata": {},
   "outputs": [
    {
     "ename": "NameError",
     "evalue": "name 'subset' is not defined",
     "output_type": "error",
     "traceback": [
      "\u001b[0;31m---------------------------------------------------------------------------\u001b[0m",
      "\u001b[0;31mNameError\u001b[0m                                 Traceback (most recent call last)",
      "Cell \u001b[0;32mIn[108], line 2\u001b[0m\n\u001b[1;32m      1\u001b[0m \u001b[38;5;28;01mfor\u001b[39;00m s \u001b[38;5;129;01min\u001b[39;00m subsets:\n\u001b[0;32m----> 2\u001b[0m    left_idx \u001b[38;5;241m=\u001b[39m _df[_df[col]\u001b[38;5;241m.\u001b[39misin(\u001b[43msubset\u001b[49m)]\u001b[38;5;241m.\u001b[39mindex\u001b[38;5;241m.\u001b[39mvalues\n\u001b[1;32m      3\u001b[0m    right_idx \u001b[38;5;241m=\u001b[39m _df\u001b[38;5;241m.\u001b[39mdrop(left_idx)\u001b[38;5;241m.\u001b[39mindex\u001b[38;5;241m.\u001b[39mvalues\n\u001b[1;32m      5\u001b[0m    \u001b[38;5;66;03m# gini impurity of left and right nodes based on residual sign\u001b[39;00m\n",
      "\u001b[0;31mNameError\u001b[0m: name 'subset' is not defined"
     ]
    }
   ],
   "source": [
    "\n",
    "\n",
    "for s in subsets:\n",
    "   left_idx = _df[_df[col].isin(subset)].index.values\n",
    "   right_idx = _df.drop(left_idx).index.values\n",
    "\n",
    "   # gini impurity of left and right nodes based on residual sign\n",
    "   mean_left = (_df.loc[left_idx, self.tgt] <= node.y_mean).mean() \n",
    "   mean_right = (_df.loc[right_idx, self.tgt] <= node.y_mean).mean() \n",
    "   mean_node  = (_df[self.tgt] <= node.y_mean).mean()\n",
    "\n",
    "   Nall = node.idx.shape[0]\n",
    "   p = 1, len(left_idx)/Nall, len(right_idx)/Nall\n",
    "    \n",
    "   gini_node = 2 * mean_node * (1 - mean_node)\n",
    "   gini_left = 2 * mean_left * (1 - mean_left)\n",
    "   gini_right = 2 * mean_right * (1 - mean_right)\n",
    "   gain = p[0]*gini_node - p[1]*gini_left - p[2]*gini_right\n",
    "\n",
    "   results['set'].append(subset)\n",
    "   results['gain'].append(gain)\n"
   ]
  },
  {
   "cell_type": "code",
   "execution_count": null,
   "id": "3e2d988e-3dfd-4f6c-a57f-e76677be0c1d",
   "metadata": {},
   "outputs": [],
   "source": []
  }
 ],
 "metadata": {
  "kernelspec": {
   "display_name": "myenv",
   "language": "python",
   "name": "myenv"
  },
  "language_info": {
   "codemirror_mode": {
    "name": "ipython",
    "version": 3
   },
   "file_extension": ".py",
   "mimetype": "text/x-python",
   "name": "python",
   "nbconvert_exporter": "python",
   "pygments_lexer": "ipython3",
   "version": "3.10.12"
  }
 },
 "nbformat": 4,
 "nbformat_minor": 5
}
