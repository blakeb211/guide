{
 "cells": [
  {
   "cell_type": "code",
   "execution_count": 92,
   "id": "04449ba3-9d97-45a3-bb9b-949eeb50c558",
   "metadata": {},
   "outputs": [],
   "source": [
    "import pandas as pd\n",
    "import numpy as np\n",
    "import matplotlib.pyplot as plt\n",
    "import math\n",
    "import pdb\n",
    "from scipy.stats import chi2_contingency, chi2\n",
    "from itertools import combinations, product"
   ]
  },
  {
   "cell_type": "code",
   "execution_count": 93,
   "id": "09424c67-1c30-42ec-b58d-7015e2135693",
   "metadata": {},
   "outputs": [
    {
     "name": "stderr",
     "output_type": "stream",
     "text": [
      "/tmp/ipykernel_55325/1800480265.py:2: FutureWarning: In a future version, `df.iloc[:, i] = newvals` will attempt to set the values inplace instead of always setting a new array. To retain the old behavior, use either `df[df.columns[i]] = newvals` or, if columns are non-unique, `df.isetitem(i, newvals)`\n",
      "  df.loc[:,'x1'] = np.random.randint(low=1,high=3,size=2000)\n",
      "/tmp/ipykernel_55325/1800480265.py:3: FutureWarning: In a future version, `df.iloc[:, i] = newvals` will attempt to set the values inplace instead of always setting a new array. To retain the old behavior, use either `df[df.columns[i]] = newvals` or, if columns are non-unique, `df.isetitem(i, newvals)`\n",
      "  df.loc[:,'x2'] = df.x1 * np.random.randint(low=1,high=3,size=2000)\n"
     ]
    }
   ],
   "source": [
    "df = pd.DataFrame(np.zeros(shape=(2000,2)),columns=['x1','x2'])\n",
    "df.loc[:,'x1'] = np.random.randint(low=1,high=3,size=2000)\n",
    "df.loc[:,'x2'] = df.x1 * np.random.randint(low=1,high=3,size=2000)\n",
    "df.loc[:,'x3'] = np.random.randint(low=1,high=5,size=2000)\n",
    "df.loc[:,'y'] =  df.x1"
   ]
  },
  {
   "cell_type": "code",
   "execution_count": 94,
   "id": "87ea5cc5-62c0-4375-960d-78c7f3a700ca",
   "metadata": {},
   "outputs": [
    {
     "data": {
      "text/html": [
       "<div>\n",
       "<style scoped>\n",
       "    .dataframe tbody tr th:only-of-type {\n",
       "        vertical-align: middle;\n",
       "    }\n",
       "\n",
       "    .dataframe tbody tr th {\n",
       "        vertical-align: top;\n",
       "    }\n",
       "\n",
       "    .dataframe thead th {\n",
       "        text-align: right;\n",
       "    }\n",
       "</style>\n",
       "<table border=\"1\" class=\"dataframe\">\n",
       "  <thead>\n",
       "    <tr style=\"text-align: right;\">\n",
       "      <th></th>\n",
       "      <th>x1</th>\n",
       "      <th>x2</th>\n",
       "      <th>x3</th>\n",
       "      <th>y</th>\n",
       "    </tr>\n",
       "  </thead>\n",
       "  <tbody>\n",
       "    <tr>\n",
       "      <th>0</th>\n",
       "      <td>1</td>\n",
       "      <td>2</td>\n",
       "      <td>1</td>\n",
       "      <td>1</td>\n",
       "    </tr>\n",
       "    <tr>\n",
       "      <th>1</th>\n",
       "      <td>2</td>\n",
       "      <td>4</td>\n",
       "      <td>4</td>\n",
       "      <td>2</td>\n",
       "    </tr>\n",
       "    <tr>\n",
       "      <th>2</th>\n",
       "      <td>1</td>\n",
       "      <td>2</td>\n",
       "      <td>4</td>\n",
       "      <td>1</td>\n",
       "    </tr>\n",
       "    <tr>\n",
       "      <th>3</th>\n",
       "      <td>2</td>\n",
       "      <td>4</td>\n",
       "      <td>3</td>\n",
       "      <td>2</td>\n",
       "    </tr>\n",
       "    <tr>\n",
       "      <th>4</th>\n",
       "      <td>1</td>\n",
       "      <td>2</td>\n",
       "      <td>3</td>\n",
       "      <td>1</td>\n",
       "    </tr>\n",
       "    <tr>\n",
       "      <th>...</th>\n",
       "      <td>...</td>\n",
       "      <td>...</td>\n",
       "      <td>...</td>\n",
       "      <td>...</td>\n",
       "    </tr>\n",
       "    <tr>\n",
       "      <th>1995</th>\n",
       "      <td>1</td>\n",
       "      <td>1</td>\n",
       "      <td>3</td>\n",
       "      <td>1</td>\n",
       "    </tr>\n",
       "    <tr>\n",
       "      <th>1996</th>\n",
       "      <td>1</td>\n",
       "      <td>2</td>\n",
       "      <td>1</td>\n",
       "      <td>1</td>\n",
       "    </tr>\n",
       "    <tr>\n",
       "      <th>1997</th>\n",
       "      <td>1</td>\n",
       "      <td>1</td>\n",
       "      <td>3</td>\n",
       "      <td>1</td>\n",
       "    </tr>\n",
       "    <tr>\n",
       "      <th>1998</th>\n",
       "      <td>1</td>\n",
       "      <td>2</td>\n",
       "      <td>1</td>\n",
       "      <td>1</td>\n",
       "    </tr>\n",
       "    <tr>\n",
       "      <th>1999</th>\n",
       "      <td>2</td>\n",
       "      <td>4</td>\n",
       "      <td>4</td>\n",
       "      <td>2</td>\n",
       "    </tr>\n",
       "  </tbody>\n",
       "</table>\n",
       "<p>2000 rows × 4 columns</p>\n",
       "</div>"
      ],
      "text/plain": [
       "      x1  x2  x3  y\n",
       "0      1   2   1  1\n",
       "1      2   4   4  2\n",
       "2      1   2   4  1\n",
       "3      2   4   3  2\n",
       "4      1   2   3  1\n",
       "...   ..  ..  .. ..\n",
       "1995   1   1   3  1\n",
       "1996   1   2   1  1\n",
       "1997   1   1   3  1\n",
       "1998   1   2   1  1\n",
       "1999   2   4   4  2\n",
       "\n",
       "[2000 rows x 4 columns]"
      ]
     },
     "execution_count": 94,
     "metadata": {},
     "output_type": "execute_result"
    }
   ],
   "source": [
    "df"
   ]
  },
  {
   "cell_type": "code",
   "execution_count": 95,
   "id": "aeeb49aa-1d2b-4ce5-aa70-1410887e3435",
   "metadata": {},
   "outputs": [
    {
     "data": {
      "text/html": [
       "<div>\n",
       "<style scoped>\n",
       "    .dataframe tbody tr th:only-of-type {\n",
       "        vertical-align: middle;\n",
       "    }\n",
       "\n",
       "    .dataframe tbody tr th {\n",
       "        vertical-align: top;\n",
       "    }\n",
       "\n",
       "    .dataframe thead th {\n",
       "        text-align: right;\n",
       "    }\n",
       "</style>\n",
       "<table border=\"1\" class=\"dataframe\">\n",
       "  <thead>\n",
       "    <tr style=\"text-align: right;\">\n",
       "      <th></th>\n",
       "      <th>x1</th>\n",
       "      <th>x2</th>\n",
       "      <th>x3</th>\n",
       "      <th>y</th>\n",
       "    </tr>\n",
       "  </thead>\n",
       "  <tbody>\n",
       "    <tr>\n",
       "      <th>x1</th>\n",
       "      <td>1.000000</td>\n",
       "      <td>0.695145</td>\n",
       "      <td>0.010019</td>\n",
       "      <td>1.000000</td>\n",
       "    </tr>\n",
       "    <tr>\n",
       "      <th>x2</th>\n",
       "      <td>0.695145</td>\n",
       "      <td>1.000000</td>\n",
       "      <td>0.037951</td>\n",
       "      <td>0.695145</td>\n",
       "    </tr>\n",
       "    <tr>\n",
       "      <th>x3</th>\n",
       "      <td>0.010019</td>\n",
       "      <td>0.037951</td>\n",
       "      <td>1.000000</td>\n",
       "      <td>0.010019</td>\n",
       "    </tr>\n",
       "    <tr>\n",
       "      <th>y</th>\n",
       "      <td>1.000000</td>\n",
       "      <td>0.695145</td>\n",
       "      <td>0.010019</td>\n",
       "      <td>1.000000</td>\n",
       "    </tr>\n",
       "  </tbody>\n",
       "</table>\n",
       "</div>"
      ],
      "text/plain": [
       "          x1        x2        x3         y\n",
       "x1  1.000000  0.695145  0.010019  1.000000\n",
       "x2  0.695145  1.000000  0.037951  0.695145\n",
       "x3  0.010019  0.037951  1.000000  0.010019\n",
       "y   1.000000  0.695145  0.010019  1.000000"
      ]
     },
     "execution_count": 95,
     "metadata": {},
     "output_type": "execute_result"
    }
   ],
   "source": [
    "df.corr()"
   ]
  },
  {
   "cell_type": "code",
   "execution_count": 97,
   "id": "ceda570d-8ff6-4dea-a95a-cc10841a65a5",
   "metadata": {},
   "outputs": [
    {
     "name": "stdout",
     "output_type": "stream",
     "text": [
      "case 2 hit\n",
      "x1, x2 dof = 3, stat = 1922.588128988558 pval = 0.0\n",
      "case 2 hit\n",
      "x1, x3 dof = 7, stat = 1838.604916908076 pval = 0.0\n",
      "case 2 hit\n",
      "x2, x3 dof = 11, stat = 855.8420731426004 pval = 0.0\n"
     ]
    }
   ],
   "source": [
    "# put in wilson hilferty and overall variable selection rules\n",
    "def remove_empty_cols(t : np.ndarray):\n",
    "    \"\"\" Remove empty columns, modifying t in place \"\"\"\n",
    "    cols = t.shape[1]\n",
    "    empty_cols = [c for c in range(cols) if t[:,c].sum() == 0]\n",
    "    return np.delete(t, empty_cols, 1)\n",
    "    \n",
    "split_vars = df.columns.to_list()\n",
    "split_vars.remove('y')        \n",
    "pairs = [*combinations(split_vars,r=2)]\n",
    "pvalues = {}\n",
    "one_dof_stats = {}\n",
    "residuals = df['y'] - df['y'].mean()\n",
    "roles = {'x1' : 'c','x2': 'c', 'x3' : 'c'}\n",
    "\n",
    "for pval_idx, (a,b) in enumerate(pairs):\n",
    "    \n",
    "    # case: a and b numeric    \n",
    "    if roles[a] in ['S','n'] and roles[b] in ['S','n']:\n",
    "        print('case 1 hit')\n",
    "        chi_squared = np.zeros(shape=(2,4))\n",
    "        quadrants = list(product(['lt','gt'],['lt','gt']))\n",
    "        for idx, (ci,cj) in enumerate(quadrants):\n",
    "            if ci == 'lt':\n",
    "                left_bool_idx = df[a] <= df[a].median()\n",
    "            else:\n",
    "                left_bool_idx = df[a] > df[a].median()\n",
    "            if cj == 'lt':\n",
    "                right_bool_idx = df[b] <= df[b].median()\n",
    "            else:\n",
    "                right_bool_idx = df[b] > df[b].median()\n",
    "            chi_squared[0,idx] = (residuals[left_bool_idx & right_bool_idx] <= 0).sum()\n",
    "            chi_squared[1,idx] = (residuals[left_bool_idx & right_bool_idx] > 0).sum()\n",
    "        chi_squared = remove_empty_cols(chi_squared)\n",
    "        \n",
    "    # case: a and b categoric\n",
    "    elif roles[a] == roles[b] and roles[a] == 'c':\n",
    "        print('case 2 hit')\n",
    "        alev = df[a].unique()\n",
    "        blev = df[b].unique()\n",
    "        cat_pairs = list(product(alev,blev))\n",
    "        chi_squared = np.zeros(shape=(2, len(cat_pairs)))\n",
    "        for idx, (ci,cj) in enumerate(cat_pairs):\n",
    "            chi_squared[0,idx] = (residuals[(df[a] == ci) & (df[b] == cj)] < 0).sum()\n",
    "            chi_squared[1,idx] = (residuals[(df[a] == ci) & (df[b] == cj)] >= 0).sum()\n",
    "        chi_squared = remove_empty_cols(chi_squared)\n",
    "        \n",
    "    # case: one numeric and one categoric\n",
    "    elif (roles[a] == 'c' and roles[b] in ['S','n']) or (roles[a] in ['S','n'] and roles[b] == 'c'):\n",
    "        print('case 3 hit')\n",
    "        if roles[a] != 'c':\n",
    "            # ensure categorical variable is a\n",
    "            a, b = b, a\n",
    "        alev = df[a].unique()\n",
    "        chi_squared = np.zeros(shape=(2,2*len(alev)))\n",
    "        groups = list(product(alev,['lt','gt']))\n",
    "        for idx, (ci,cj) in enumerate(groups):\n",
    "            if cj == 'lt':\n",
    "                bool_idx = df[b] <= df[b].median()\n",
    "            else:\n",
    "                bool_idx = (df[b] > df[b].median())\n",
    "            chi_squared[0,idx] = (residuals[(df[a] == ci) & bool_idx] <= 0).sum()\n",
    "            chi_squared[1,idx] = (residuals[(df[a] == ci) & bool_idx] > 0).sum()\n",
    "        chi_squared = remove_empty_cols(chi_squared)\n",
    "        \n",
    "    else:\n",
    "        assert False, \"We should never reach this line. Likely caused by unhandled variable role.\"\n",
    "\n",
    "    res = chi2_contingency(chi_squared)\n",
    "    dof, stat = res.dof, res.statistic\n",
    "    one_dof_stat = wilson_hilferty(stat=stat, dof=dof)\n",
    "    pval_one_dof = pvalue_for_one_dof(stat=one_dof_stat)\n",
    "    pvalues[(a,b)] = pval_one_dof\n",
    "    one_dof_stats[(a,b)] = one_dof_stat\n",
    "    # convert dof to 1-df and get pvalue\n",
    "    print(f\"{a}, {b} dof = {res.dof}, stat = {one_dof_stat} pval = {pval_one_dof}\")\n"
   ]
  },
  {
   "cell_type": "code",
   "execution_count": 85,
   "id": "fed02703-cd3c-408c-885c-3d34dd0134eb",
   "metadata": {},
   "outputs": [
    {
     "data": {
      "text/plain": [
       "([('x1', 'x2'), ('x1', 'x3'), ('x2', 'x3')],\n",
       " {('x2', 'x1'): 0.0, ('x1', 'x3'): 0.1799576773779289, ('x2', 'x3'): 0.0})"
      ]
     },
     "execution_count": 85,
     "metadata": {},
     "output_type": "execute_result"
    }
   ],
   "source": [
    "pairs, pvalues"
   ]
  },
  {
   "cell_type": "code",
   "execution_count": null,
   "id": "52489709-1b5e-4eb6-b6fa-fd722cd405eb",
   "metadata": {},
   "outputs": [],
   "source": []
  },
  {
   "cell_type": "code",
   "execution_count": 256,
   "id": "830c9fc0-c704-4a94-b347-cebc47a6d9ce",
   "metadata": {},
   "outputs": [
    {
     "data": {
      "text/plain": [
       "['x1', 'x2', 'x3']"
      ]
     },
     "execution_count": 256,
     "metadata": {},
     "output_type": "execute_result"
    }
   ],
   "source": [
    "split_vars"
   ]
  },
  {
   "cell_type": "code",
   "execution_count": 22,
   "id": "8c7e7ca3-3c9a-4f47-972d-b6c360cbb286",
   "metadata": {},
   "outputs": [],
   "source": [
    "def wilson_hilferty(stat, dof) -> np.float64:\n",
    "    \"\"\" approximately convert chi-squared with dof degrees of freedom to 1 degree of freedom \"\"\"\n",
    "    if dof == 1:\n",
    "        return stat\n",
    "    w1 = (math.sqrt(2*stat) - math.sqrt(2*dof - 1) + 1)**2 / 2\n",
    "    temp = 7/9 + math.sqrt(dof)*( (stat/dof)**(1/3) - 1 + 2 / (9 * dof) )\n",
    "    w2 = max(0, temp ** 3) \n",
    "\n",
    "    w = None\n",
    "    if stat < dof + 10 * math.sqrt(2*dof):\n",
    "        w = w2\n",
    "    elif stat >= dof + 10 * math.sqrt(2*dof) and w2 < stat:\n",
    "        w = (w1 + w2) / 2\n",
    "    else:\n",
    "        w = w1\n",
    "    return w\n",
    "    \n",
    "def pvalue_for_one_dof(stat):\n",
    "    \"\"\" pvalue for a 1 dof chi squared statistic \"\"\"\n",
    "    return 1 - chi2.cdf(stat, 1)"
   ]
  },
  {
   "cell_type": "code",
   "execution_count": null,
   "id": "210b5c2f-422a-443c-a79f-4cd5586ca87c",
   "metadata": {},
   "outputs": [],
   "source": []
  }
 ],
 "metadata": {
  "kernelspec": {
   "display_name": "Python 3 (ipykernel)",
   "language": "python",
   "name": "python3"
  },
  "language_info": {
   "codemirror_mode": {
    "name": "ipython",
    "version": 3
   },
   "file_extension": ".py",
   "mimetype": "text/x-python",
   "name": "python",
   "nbconvert_exporter": "python",
   "pygments_lexer": "ipython3",
   "version": "3.9.12"
  }
 },
 "nbformat": 4,
 "nbformat_minor": 5
}
