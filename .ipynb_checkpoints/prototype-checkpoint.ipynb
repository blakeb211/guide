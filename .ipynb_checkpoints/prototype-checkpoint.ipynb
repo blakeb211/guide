{
 "cells": [
  {
   "cell_type": "code",
   "execution_count": 179,
   "id": "cf47b8b5-6998-47e6-9cf1-a3cdb6429f0f",
   "metadata": {},
   "outputs": [],
   "source": [
    "import pandas as pd\n",
    "import numpy as np\n",
    "import heapq\n",
    "import pdb\n",
    "import math, sys\n",
    "from scipy.stats import chi2_contingency, chi2\n",
    "from collections import defaultdict\n",
    "from itertools import combinations, chain"
   ]
  },
  {
   "cell_type": "code",
   "execution_count": 182,
   "id": "d3cbfd45-9777-4b02-84a9-1dfbcf73d853",
   "metadata": {},
   "outputs": [
    {
     "name": "stdout",
     "output_type": "stream",
     "text": [
      "<class 'pandas.core.frame.DataFrame'>\n",
      "RangeIndex: 625 entries, 0 to 624\n",
      "Data columns (total 4 columns):\n",
      " #   Column  Non-Null Count  Dtype  \n",
      "---  ------  --------------  -----  \n",
      " 0   cat1    625 non-null    object \n",
      " 1   num1    625 non-null    float64\n",
      " 2   num2    625 non-null    float64\n",
      " 3   tgt     625 non-null    float64\n",
      "dtypes: float64(3), object(1)\n",
      "memory usage: 19.7+ KB\n"
     ]
    }
   ],
   "source": [
    "df.info()"
   ]
  },
  {
   "cell_type": "code",
   "execution_count": 196,
   "id": "75e78cf5-4378-4ad1-b8a3-0eda89c75eb2",
   "metadata": {},
   "outputs": [
    {
     "name": "stdout",
     "output_type": "stream",
     "text": [
      "node_size = 212 num_negs = 129 top class = 1\n",
      "A 11\n",
      "B 20\n",
      "C 12\n",
      "D 17\n",
      "E 11\n",
      "F 11\n",
      "G 11\n",
      "H 10\n",
      "I 14\n",
      "J 12\n",
      "-------------------------\n",
      "A 0.5165635238441937\n",
      "B 0.8161974058842139\n",
      "C 0.8614357262103507\n",
      "D 0.7905551550108146\n",
      "E 0.8103940605368362\n",
      "F 0.8103940605368362\n",
      "G 0.6812289966394622\n",
      "H 0.5643044619422573\n",
      "I 0.8131472309770374\n",
      "J 0.5231497127407908\n"
     ]
    }
   ],
   "source": [
    "## Set up test case for particular node\n",
    "df = pd.read_csv(\"tests/data-strikes2/data.txt\", delim_whitespace=True)\n",
    "GOTO_NODE = True\n",
    "if GOTO_NODE:\n",
    "    _df = df.loc[df['num1'] <= 1.5]\n",
    "    _df = _df.loc[df['num2'] <= 0.4375]\n",
    "    _df = df.loc[df['num1'] <= 0.5]\n",
    "######################################################################################\n",
    "\n",
    "col = 'cat1'\n",
    "self_tgt = 'tgt'\n",
    "node_y_mean = _df[self_tgt].mean()\n",
    "_df = _df[[col,self_tgt]]\n",
    "x_uniq = _df[col].drop_duplicates().sort_values().values\n",
    "\n",
    "node_binom = _df[self_tgt] <= node_y_mean                      # class 1 has negative residual\n",
    "_df.loc[:,self_tgt] = node_binom\n",
    "\n",
    "num_negs  = node_binom.sum()\n",
    "top_class = 1 if (num_negs / node_binom.shape[0] >= .5) else 0 # predominant class\n",
    "print(f\"node_size = {len(_df)} num_negs = {num_negs} top class = {top_class}\")\n",
    "\n",
    "def pi(j):\n",
    "    if j == 1: return num_negs / node_binom.shape[0]\n",
    "    if j == 0: return 1.0 - num_negs / node_binom.shape[0]\n",
    "    raise \"fail\"\n",
    "\n",
    "def get_combos(x_uniq):\n",
    "    max_r = max(int(round(x_uniq.shape[0] / 2 - 0.1)),1)\n",
    "    subsets_all = [subset for subset in chain(*(combinations(x_uniq, r) for r in range(1, max_r + 1)))]\n",
    "    print(\"fsubsets_all = {len(subsets_all)}\")\n",
    "    return subsets_all\n",
    "\n",
    "subsets2 = [('J',),('A','G', 'H', 'J',),('A',),('I',)]\n",
    "\n",
    "def N_j_l(j,subset_l) -> int:\n",
    "    \"\"\" num cases of class j in subset \"\"\"\n",
    "    assert j == 0 or j == 1\n",
    "    return (_df[_df[col].isin(subset_l)] == j)[self_tgt].sum()\n",
    "\n",
    "def p(j, subset_l) -> float:\n",
    "    assert j == 0 or j == 1\n",
    "    return pi(j)*N_j_l(j, subset_l) / ( pi(1)*N_j_l(1, subset_l) + pi(0)*N_j_l(0, subset_l) )\n",
    "    \n",
    "for s in x_uniq:\n",
    "    print(s, N_j_l(1, (s,)))\n",
    "     \n",
    "print(\"-\"*25)\n",
    "\n",
    "for s in x_uniq:\n",
    "    print(s, p(1, (s,)))\n",
    "\n"
   ]
  },
  {
   "cell_type": "code",
   "execution_count": null,
   "id": "498843c8-c8a7-41ae-8fab-21064d48896d",
   "metadata": {},
   "outputs": [],
   "source": []
  }
 ],
 "metadata": {
  "kernelspec": {
   "display_name": "myenv",
   "language": "python",
   "name": "myenv"
  },
  "language_info": {
   "codemirror_mode": {
    "name": "ipython",
    "version": 3
   },
   "file_extension": ".py",
   "mimetype": "text/x-python",
   "name": "python",
   "nbconvert_exporter": "python",
   "pygments_lexer": "ipython3",
   "version": "3.10.12"
  }
 },
 "nbformat": 4,
 "nbformat_minor": 5
}
